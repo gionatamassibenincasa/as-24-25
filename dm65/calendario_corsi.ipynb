{
 "cells": [
  {
   "cell_type": "code",
   "execution_count": 10,
   "id": "0cac1cfb-5c41-4c19-a2af-1ddcf653d18e",
   "metadata": {},
   "outputs": [
    {
     "data": {
      "text/html": [
       "<table border=\"1\" class=\"dataframe\">\n",
       "  <thead>\n",
       "    <tr style=\"text-align: right;\">\n",
       "      <th></th>\n",
       "      <th>idEdizione</th>\n",
       "      <th>denominazione</th>\n",
       "      <th>descrizione</th>\n",
       "    </tr>\n",
       "  </thead>\n",
       "  <tbody>\n",
       "    <tr>\n",
       "      <th>0</th>\n",
       "      <td>CyberSec3B</td>\n",
       "      <td>CYBER SICUREZZA 1</td>\n",
       "      <td>Il percorso avvicina le studentesse e gli studenti alla sicurezza informatica tramite attività di gioco (challenge). È propedeutico alla partecipazione alle iniziative sulla sicurezza informatica proposte dalla rete CyberHighSchools (OliCyber, CyberChallenge, CyberTrials). Il laborartorio propone l'uso di un ecosistema hardware (Rasperry Pi 5) e software (sistema operativo GNU/Linux, interprete Python, strumenti per l'analisi del traffico di rete, strumenti per l'analisi dei file eseguibili) a sorgente aperto con il quale scoprire giocando le problematiche di sicurezza, sviluppare una coscienza critica sull'argomento e promuovere comportamenti orientati ad una protezione dei dati personali.</td>\n",
       "    </tr>\n",
       "    <tr>\n",
       "      <th>1</th>\n",
       "      <td>CyberSec4B</td>\n",
       "      <td>CYBER SICUREZZA 2</td>\n",
       "      <td>Il percorso avvicina le studentesse e gli studenti alla sicurezza informatica tramite attività di gioco (challenge). È propedeutico alla partecipazione alle iniziative sulla sicurezza informatica proposte dalla rete CyberHighSchools (OliCyber, CyberChallenge, CyberTrials). Il laborartorio propone l'uso di un ecosistema hardware (Rasperry Pi 5) e software (sistema operativo GNU/Linux, interprete Python, strumenti per l'analisi del traffico di rete, strumenti per l'analisi dei file eseguibili) a sorgente aperto con il quale scoprire giocando le problematiche di sicurezza, sviluppare una coscienza critica sull'argomento e promuovere comportamenti orientati ad una protezione dei dati personali.</td>\n",
       "    </tr>\n",
       "  </tbody>\n",
       "</table>"
      ],
      "text/plain": [
       "<IPython.core.display.HTML object>"
      ]
     },
     "metadata": {},
     "output_type": "display_data"
    },
    {
     "data": {
      "text/html": [
       "<table border=\"1\" class=\"dataframe\">\n",
       "  <thead>\n",
       "    <tr style=\"text-align: right;\">\n",
       "      <th></th>\n",
       "      <th>idEdizione</th>\n",
       "      <th>denominazione</th>\n",
       "      <th>descrizione</th>\n",
       "    </tr>\n",
       "  </thead>\n",
       "  <tbody>\n",
       "    <tr>\n",
       "      <th>0</th>\n",
       "      <td>Crypto1B</td>\n",
       "      <td>CRITTOGRAFIA CON BLOCCHI 1</td>\n",
       "      <td>Il corso è un'introduzione alle \"grandi idee\" della crittografia. L'approccio didattico procede \"per scoperta\" con attività che si susseguono con una successione di crittosistemi (dai classici ai più moderni). Lo studente può sperimentare caratteristiche di ciascun crittosistema, realizzado possibili procedure di attacco e valutandone i limiti. Dalle debolezze di un sistema lo studente dovrebbe avere necessità di scoprire il crittosistema successivo, che avrà superato i limiti del sistema precedente ma che potrà presentare altri aspetti limitanti. L'impianto generale del corso si basa su M. Lodi - M. Sbaraglia - S. Martini, \"PROGRAMMARE PER IMPARARE LA CRITTOGRAFIA AL LICEO MATEMATICO\". I crittosistemi, la loro analisi ed le possibili procedure di attacco sono realizzate in Snap! (un linguaggio di programmazione visuale a blocchi) da Michael Lodi (Università di Bologna).</td>\n",
       "    </tr>\n",
       "    <tr>\n",
       "      <th>1</th>\n",
       "      <td>Crypto2B</td>\n",
       "      <td>CRITTOGRAFIA CON LINGUAGGIO A BLOCCHI</td>\n",
       "      <td>Il corso è un'introduzione alle \"grandi idee\" della crittografia. L'approccio didattico procede \"per scoperta\" con attività che si susseguono con una successione di crittosistemi (dai classici ai più moderni). Lo studente può sperimentare caratteristiche di ciascun crittosistema, realizzado possibili procedure di attacco e valutandone i limiti. Dalle debolezze di un sistema lo studente dovrebbe avere necessità di scoprire il crittosistema successivo, che avrà superato i limiti del sistema precedente ma che potrà presentare altri aspetti limitanti. L'impianto generale del corso si basa su M. Lodi - M. Sbaraglia - S. Martini, \"PROGRAMMARE PER IMPARARE LA CRITTOGRAFIA AL LICEO MATEMATICO\". I crittosistemi, la loro analisi ed le possibili procedure di attacco sono realizzate in Snap! (un linguaggio di programmazione visuale a blocchi) da Michael Lodi (Università di Bologna).</td>\n",
       "    </tr>\n",
       "    <tr>\n",
       "      <th>2</th>\n",
       "      <td>Crypto4G</td>\n",
       "      <td>CRITTOGRAFIA CON BLOCCHI 2</td>\n",
       "      <td>Il corso è un'introduzione alle \"grandi idee\" della crittografia. L'approccio didattico procede \"per scoperta\" con attività che si susseguono con una successione di crittosistemi (dai classici ai più moderni). Lo studente può sperimentare caratteristiche di ciascun crittosistema, realizzado possibili procedure di attacco e valutandone i limiti. Dalle debolezze di un sistema lo studente dovrebbe avere necessità di scoprire il crittosistema successivo, che avrà superato i limiti del sistema precedente ma che potrà presentare altri aspetti limitanti. L'impianto generale del corso si basa su M. Lodi - M. Sbaraglia - S. Martini, \"PROGRAMMARE PER IMPARARE LA CRITTOGRAFIA AL LICEO MATEMATICO\". I crittosistemi, la loro analisi ed le possibili procedure di attacco sono realizzate in Snap! (un linguaggio di programmazione visuale a blocchi) da Michael Lodi (Università di Bologna).</td>\n",
       "    </tr>\n",
       "  </tbody>\n",
       "</table>"
      ],
      "text/plain": [
       "<IPython.core.display.HTML object>"
      ]
     },
     "metadata": {},
     "output_type": "display_data"
    },
    {
     "data": {
      "text/html": [
       "<table border=\"1\" class=\"dataframe\">\n",
       "  <thead>\n",
       "    <tr style=\"text-align: right;\">\n",
       "      <th></th>\n",
       "      <th>idEdizione</th>\n",
       "      <th>denominazione</th>\n",
       "      <th>descrizione</th>\n",
       "    </tr>\n",
       "  </thead>\n",
       "  <tbody>\n",
       "    <tr>\n",
       "      <th>0</th>\n",
       "      <td>LM2</td>\n",
       "      <td>LABORATORIO DI MATEMATICA 2</td>\n",
       "      <td>Il corso mira a sviluppare il pensiero ricorsivo attraverso lo sviluppo dell'aritmetica. Tra induzione e ricorsione saranno definiti l'insieme dei numeri naturali e, con le sole funzioni primitive di riconoscimento dello zero, successore e predecessore, saranno definiti alcuni operatori di confronto e operazioni di addizione, sottrazione, moltiplicazione e divisione intera. Lo stesso modo di ragionare su problemi numerici può essere applicato alla risoluzione di tutti problemi che l'informatica può risolvere. Sono questi ragionamenti il vero oggetto del corso.</td>\n",
       "    </tr>\n",
       "  </tbody>\n",
       "</table>"
      ],
      "text/plain": [
       "<IPython.core.display.HTML object>"
      ]
     },
     "metadata": {},
     "output_type": "display_data"
    },
    {
     "data": {
      "text/html": [
       "<table border=\"1\" class=\"dataframe\">\n",
       "  <thead>\n",
       "    <tr style=\"text-align: right;\">\n",
       "      <th></th>\n",
       "      <th>idEdizione</th>\n",
       "      <th>denominazione</th>\n",
       "      <th>descrizione</th>\n",
       "    </tr>\n",
       "  </thead>\n",
       "  <tbody>\n",
       "    <tr>\n",
       "      <th>0</th>\n",
       "      <td>PhyComp</td>\n",
       "      <td>PHYSICAL COMPUTING</td>\n",
       "      <td>Il percorso vuole fornire un'introduzione al Physical computing e usando Micro:bit, Raspberry Pi e Arduino. L'uso delle schede elettroniche programmabili permette l'interazione con il mondo reale e rende visibile l'effetto dell'esecuzione del programma che lo studente andrà a realizzare. Obiettivi del corso sono la</td>\n",
       "    </tr>\n",
       "  </tbody>\n",
       "</table>"
      ],
      "text/plain": [
       "<IPython.core.display.HTML object>"
      ]
     },
     "metadata": {},
     "output_type": "display_data"
    },
    {
     "data": {
      "text/html": [
       "<table border=\"1\" class=\"dataframe\">\n",
       "  <thead>\n",
       "    <tr style=\"text-align: right;\">\n",
       "      <th></th>\n",
       "      <th>idEdizione</th>\n",
       "      <th>denominazione</th>\n",
       "      <th>descrizione</th>\n",
       "    </tr>\n",
       "  </thead>\n",
       "  <tbody>\n",
       "    <tr>\n",
       "      <th>0</th>\n",
       "      <td>RelAx4E</td>\n",
       "      <td>ALGEBRA DELLE RELAZIONI 2</td>\n",
       "      <td>Il percorso introduce le basi della teoria delle basi di dati relazionali, un pilastro fondamentale dell'informatica intesa come disciplina che studia i metodi per estrarre informazioni in modo automatico da dati grezzi.\\rLa presentazione degli argomenti è declinata in modo rendere evidente come l'informatica sia una disciplina scientifica e ingegneristica. Vengono esposti sia gli aspetti scientifici e formali, come quelli dell'algebra delle relazioni, sia quelli ingegneristici legati all'efficienza computazionale degli algoritmi.\\rI contenuti si collocano in un contesto interdisciplinare, come è proprio dell'informatica, dove la teoria si unisce alla pratica, grazie all'utilizzo di una piattaforma web per la valutazione di espressioni algebriche relazionali.\\rObiettivi generali:\\r  -  cogliere la stretta relazione tra pensiero scientifico e sviluppo tecnologico.\\r  - comprendere le strutture fondamentali dei ragionamenti logico-deduttivi e padroneggiare il linguaggio logico-formale per risolvere problemi di varia natura.\\r  - utilizzare strumenti informatici per modellare e risolvere problemi.\\r  - acquisire una comprensione approfondita della disciplina informatica per orientare le proprie scelte future, sia a livello universitario che professionale.</td>\n",
       "    </tr>\n",
       "    <tr>\n",
       "      <th>1</th>\n",
       "      <td>RelAx4F</td>\n",
       "      <td>ALGEBRA DELLE RELAZIONI 4</td>\n",
       "      <td>Il percorso introduce le basi della teoria delle basi di dati relazionali, un pilastro fondamentale dell'informatica intesa come disciplina che studia i metodi per estrarre informazioni in modo automatico da dati grezzi.\\rLa presentazione degli argomenti è declinata in modo rendere evidente come l'informatica sia una disciplina scientifica e ingegneristica. Vengono esposti sia gli aspetti scientifici e formali, come quelli dell'algebra delle relazioni, sia quelli ingegneristici legati all'efficienza computazionale degli algoritmi.\\rI contenuti si collocano in un contesto interdisciplinare, come è proprio dell'informatica, dove la teoria si unisce alla pratica, grazie all'utilizzo di una piattaforma web per la valutazione di espressioni algebriche relazionali.\\rObiettivi generali:\\r  -  cogliere la stretta relazione tra pensiero scientifico e sviluppo tecnologico.\\r  - comprendere le strutture fondamentali dei ragionamenti logico-deduttivi e padroneggiare il linguaggio logico-formale per risolvere problemi di varia natura.\\r  - utilizzare strumenti informatici per modellare e risolvere problemi.\\r  - acquisire una comprensione approfondita della disciplina informatica per orientare le proprie scelte future, sia a livello universitario che professionale.</td>\n",
       "    </tr>\n",
       "    <tr>\n",
       "      <th>2</th>\n",
       "      <td>RelAx5LSinf</td>\n",
       "      <td>ALGEBRA DELLE RELAZIONI 1</td>\n",
       "      <td>Il percorso introduce le basi della teoria delle basi di dati relazionali, un pilastro fondamentale dell'informatica intesa come disciplina che studia i metodi per estrarre informazioni in modo automatico da dati grezzi.\\rLa presentazione degli argomenti è declinata in modo rendere evidente come l'informatica sia una disciplina scientifica e ingegneristica. Vengono esposti sia gli aspetti scientifici e formali, come quelli dell'algebra delle relazioni, sia quelli ingegneristici legati all'efficienza computazionale degli algoritmi.\\rI contenuti si collocano in un contesto interdisciplinare, come è proprio dell'informatica, dove la teoria si unisce alla pratica, grazie all'utilizzo di una piattaforma web per la valutazione di espressioni algebriche relazionali.\\rObiettivi generali:\\r  -  cogliere la stretta relazione tra pensiero scientifico e sviluppo tecnologico.\\r  - comprendere le strutture fondamentali dei ragionamenti logico-deduttivi e padroneggiare il linguaggio logico-formale per risolvere problemi di varia natura.\\r  - utilizzare strumenti informatici per modellare e risolvere problemi.\\r  - acquisire una comprensione approfondita della disciplina informatica per orientare le proprie scelte future, sia a livello universitario che professionale.</td>\n",
       "    </tr>\n",
       "    <tr>\n",
       "      <th>3</th>\n",
       "      <td>RelAx5E</td>\n",
       "      <td>ALGEBRA DELLE RELAZIONI 3</td>\n",
       "      <td>Il percorso introduce le basi della teoria delle basi di dati relazionali, un pilastro fondamentale dell'informatica intesa come disciplina che studia i metodi per estrarre informazioni in modo automatico da dati grezzi.\\rLa presentazione degli argomenti è declinata in modo rendere evidente come l'informatica sia una disciplina scientifica e ingegneristica. Vengono esposti sia gli aspetti scientifici e formali, come quelli dell'algebra delle relazioni, sia quelli ingegneristici legati all'efficienza computazionale degli algoritmi.\\rI contenuti si collocano in un contesto interdisciplinare, come è proprio dell'informatica, dove la teoria si unisce alla pratica, grazie all'utilizzo di una piattaforma web per la valutazione di espressioni algebriche relazionali.\\rObiettivi generali:\\r  -  cogliere la stretta relazione tra pensiero scientifico e sviluppo tecnologico.\\r  - comprendere le strutture fondamentali dei ragionamenti logico-deduttivi e padroneggiare il linguaggio logico-formale per risolvere problemi di varia natura.\\r  - utilizzare strumenti informatici per modellare e risolvere problemi.\\r  - acquisire una comprensione approfondita della disciplina informatica per orientare le proprie scelte future, sia a livello universitario che professionale.</td>\n",
       "    </tr>\n",
       "  </tbody>\n",
       "</table>"
      ],
      "text/plain": [
       "<IPython.core.display.HTML object>"
      ]
     },
     "metadata": {},
     "output_type": "display_data"
    },
    {
     "data": {
      "text/html": [
       "<table border=\"1\" class=\"dataframe\">\n",
       "  <thead>\n",
       "    <tr style=\"text-align: right;\">\n",
       "      <th></th>\n",
       "      <th>idEdizione</th>\n",
       "      <th>denominazione</th>\n",
       "      <th>descrizione</th>\n",
       "    </tr>\n",
       "  </thead>\n",
       "  <tbody>\n",
       "    <tr>\n",
       "      <th>0</th>\n",
       "      <td>RicOp5A</td>\n",
       "      <td>RICERCA OPERATIVA</td>\n",
       "      <td>Il laboratorio introduce, per mezzo di attività laboratoriali, le problematiche affrontate della Ricerca Operativa, una disciplina che si avvale di metodi scientifici, matematici e informatici per risolvere problemi complessi che si presentano in svariati contesti, dalla logistica all'economia, passando per l'ingegneria e la medicina.</td>\n",
       "    </tr>\n",
       "  </tbody>\n",
       "</table>"
      ],
      "text/plain": [
       "<IPython.core.display.HTML object>"
      ]
     },
     "metadata": {},
     "output_type": "display_data"
    }
   ],
   "source": [
    "import sqlite3\n",
    "import pandas as pd\n",
    "\n",
    "from IPython.core.display import HTML\n",
    "\n",
    "con = sqlite3.connect(\"data/calendario_corsi.sqlite\")\n",
    "\n",
    "# Corsi le cui edizioni devono essere visualizzate\n",
    "corsi = ['CyberSec', 'CryptoWithBlocks', 'LabMat2', 'PhyComp', 'RelAx', 'RicOp']# , 'EduRobot', 'PassInf']\n",
    "\n",
    "for c in corsi:\n",
    "    sql = \"SELECT idEdizione, denominazione, descrizione FROM Edizione INNER JOIN Corso USING (idCorso) WHERE Corso.idCorso='\" + c + \"'\"\n",
    "    edizioni = pd.read_sql_query(sql, con)\n",
    "    display(HTML(edizioni.to_html()))\n",
    "                                 \n",
    "con.close()"
   ]
  },
  {
   "cell_type": "code",
   "execution_count": null,
   "id": "4d3da39f-c174-4346-b424-0bc3e3ee6a91",
   "metadata": {},
   "outputs": [],
   "source": []
  }
 ],
 "metadata": {
  "kernelspec": {
   "display_name": "Python 3 (ipykernel)",
   "language": "python",
   "name": "python3"
  },
  "language_info": {
   "codemirror_mode": {
    "name": "ipython",
    "version": 3
   },
   "file_extension": ".py",
   "mimetype": "text/x-python",
   "name": "python",
   "nbconvert_exporter": "python",
   "pygments_lexer": "ipython3",
   "version": "3.12.7"
  }
 },
 "nbformat": 4,
 "nbformat_minor": 5
}
