{
  "metadata": {
    "kernelspec": {
      "name": "python",
      "display_name": "Python (Pyodide)",
      "language": "python"
    },
    "language_info": {
      "codemirror_mode": {
        "name": "python",
        "version": 3
      },
      "file_extension": ".py",
      "mimetype": "text/x-python",
      "name": "python",
      "nbconvert_exporter": "python",
      "pygments_lexer": "ipython3",
      "version": "3.8"
    }
  },
  "nbformat_minor": 5,
  "nbformat": 4,
  "cells": [
    {
      "id": "8f6e834a-a1c7-4148-84e1-f60de1ecf0bc",
      "cell_type": "markdown",
      "source": "# Un'analisi storica sull'occupazione e sulle retritribuzioni in Italia e Germania dal 1946 ad oggi\n\n## Introduzione\n\n## Metodo e fonti dei dati\n\n\n## Analisi\n\n## Risultati\n\n## Conclusioni",
      "metadata": {
        "tags": [],
        "editable": true,
        "slideshow": {
          "slide_type": ""
        }
      }
    },
    {
      "id": "018603b1-3f1b-4ea4-ae38-5c6e55d44a42",
      "cell_type": "code",
      "source": "# Installa il modulo REQUESTS che viene usato per interagire\n# con le API di http://oecd.org/en/data/insights/data-explainers/2024/09/api.html\n%pip install -q requests\n# Installa il modulo pandas - Python Data Analysis Library\n# che viene usato per elaborare i dati\n%pip install -q pandas\n%pip install -q lxml",
      "metadata": {
        "trusted": true
      },
      "outputs": [],
      "execution_count": 7
    },
    {
      "id": "3b6f0f5e-fe7d-4047-a841-4d972db996ba",
      "cell_type": "code",
      "source": "# rende dispobibile il modulo requests\nimport requests\n# rende dispobibile il modulo pandas ridenominadolo pd\nimport pandas as pd\nfrom io import StringIO\npercentualeOccupati = requests.get('https://sdmx.oecd.org/public/rest/data/OECD.SDD.TPS,DSD_LFS@DF_IALFS_EMP_WAP_Q,/CHE+FRA+GRC+ESP+DEU+ITA.EMP_WAP.._Z.Y._T.Y15T74..A?startPeriod=1998&endPeriod=2025')\n",
      "metadata": {
        "trusted": true
      },
      "outputs": [
        {
          "ename": "<class 'AttributeError'>",
          "evalue": "module 'pandas' has no attribute 'readFromXML'",
          "traceback": [
            "\u001b[0;31m---------------------------------------------------------------------------\u001b[0m",
            "\u001b[0;31mAttributeError\u001b[0m                            Traceback (most recent call last)",
            "Cell \u001b[0;32mIn[2], line 6\u001b[0m\n\u001b[1;32m      4\u001b[0m \u001b[38;5;28;01mimport\u001b[39;00m \u001b[38;5;21;01mpandas\u001b[39;00m \u001b[38;5;28;01mas\u001b[39;00m \u001b[38;5;21;01mpd\u001b[39;00m\n\u001b[1;32m      5\u001b[0m percentualeOccupati \u001b[38;5;241m=\u001b[39m requests\u001b[38;5;241m.\u001b[39mget(\u001b[38;5;124m'\u001b[39m\u001b[38;5;124mhttps://sdmx.oecd.org/public/rest/data/OECD.SDD.TPS,DSD_LFS@DF_IALFS_EMP_WAP_Q,/CHE+FRA+GRC+ESP+DEU+ITA.EMP_WAP.._Z.Y._T.Y15T74..A?startPeriod=1998&endPeriod=2025\u001b[39m\u001b[38;5;124m'\u001b[39m)\n\u001b[0;32m----> 6\u001b[0m tabellaPercentualeOccupati \u001b[38;5;241m=\u001b[39m \u001b[43mpd\u001b[49m\u001b[38;5;241;43m.\u001b[39;49m\u001b[43mreadFromXML\u001b[49m(percentualeOccupati\u001b[38;5;241m.\u001b[39mtext)\n\u001b[1;32m      7\u001b[0m tabellaPercentualeOccupati\n",
            "\u001b[0;31mAttributeError\u001b[0m: module 'pandas' has no attribute 'readFromXML'"
          ],
          "output_type": "error"
        }
      ],
      "execution_count": 2
    },
    {
      "id": "b0f19fa7-7b57-4424-adb5-113296c5aaa4",
      "cell_type": "code",
      "source": "tabellaPercentualeOccupati = pd.read_xml(StringIO(percentualeOccupati.text))\ntabellaPercentualeOccupati",
      "metadata": {
        "trusted": true
      },
      "outputs": [
        {
          "execution_count": 8,
          "output_type": "execute_result",
          "data": {
            "text/plain": "           ID   Test             Prepared  Sender  Structure DataSetAction  \\\n0  IREF011478  False  2025-04-28T12:27:12     NaN        NaN   Information   \n1        None    NaN                 None     NaN        NaN          None   \n\n  DataSetID       action                                    structureRef  \\\n0   DSD_LFS         None                                            None   \n1      None  Information  OECD_SDD_TPS_DSD_LFS_at_DF_IALFS_EMP_WAP_Q_1_0   \n\n   Series  \n0     NaN  \n1     NaN  ",
            "text/html": "<div>\n<style scoped>\n    .dataframe tbody tr th:only-of-type {\n        vertical-align: middle;\n    }\n\n    .dataframe tbody tr th {\n        vertical-align: top;\n    }\n\n    .dataframe thead th {\n        text-align: right;\n    }\n</style>\n<table border=\"1\" class=\"dataframe\">\n  <thead>\n    <tr style=\"text-align: right;\">\n      <th></th>\n      <th>ID</th>\n      <th>Test</th>\n      <th>Prepared</th>\n      <th>Sender</th>\n      <th>Structure</th>\n      <th>DataSetAction</th>\n      <th>DataSetID</th>\n      <th>action</th>\n      <th>structureRef</th>\n      <th>Series</th>\n    </tr>\n  </thead>\n  <tbody>\n    <tr>\n      <th>0</th>\n      <td>IREF011478</td>\n      <td>False</td>\n      <td>2025-04-28T12:27:12</td>\n      <td>NaN</td>\n      <td>NaN</td>\n      <td>Information</td>\n      <td>DSD_LFS</td>\n      <td>None</td>\n      <td>None</td>\n      <td>NaN</td>\n    </tr>\n    <tr>\n      <th>1</th>\n      <td>None</td>\n      <td>NaN</td>\n      <td>None</td>\n      <td>NaN</td>\n      <td>NaN</td>\n      <td>None</td>\n      <td>None</td>\n      <td>Information</td>\n      <td>OECD_SDD_TPS_DSD_LFS_at_DF_IALFS_EMP_WAP_Q_1_0</td>\n      <td>NaN</td>\n    </tr>\n  </tbody>\n</table>\n</div>"
          },
          "metadata": {}
        }
      ],
      "execution_count": 8
    },
    {
      "id": "bb62d1de-0665-42a0-adb6-ac08a3aa699f",
      "cell_type": "code",
      "source": "",
      "metadata": {
        "trusted": true
      },
      "outputs": [],
      "execution_count": 5
    }
  ]
}